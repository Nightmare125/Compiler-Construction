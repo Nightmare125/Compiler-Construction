{
  "nbformat": 4,
  "nbformat_minor": 0,
  "metadata": {
    "colab": {
      "provenance": [],
      "authorship_tag": "ABX9TyNuM3cSMLlLwAb5aXRCDXJs",
      "include_colab_link": true
    },
    "kernelspec": {
      "name": "python3",
      "display_name": "Python 3"
    },
    "language_info": {
      "name": "python"
    }
  },
  "cells": [
    {
      "cell_type": "markdown",
      "metadata": {
        "id": "view-in-github",
        "colab_type": "text"
      },
      "source": [
        "<a href=\"https://colab.research.google.com/github/Nightmare125/Compiler-Construction/blob/main/A_Lab_5.ipynb\" target=\"_parent\"><img src=\"https://colab.research.google.com/assets/colab-badge.svg\" alt=\"Open In Colab\"/></a>"
      ]
    },
    {
      "cell_type": "code",
      "execution_count": null,
      "metadata": {
        "id": "hqT7ZqfRrhgg"
      },
      "outputs": [],
      "source": []
    },
    {
      "cell_type": "markdown",
      "source": [
        "Lab 5\n",
        "\n",
        "122589 Maina Richard Gichomo\n",
        "\n",
        "1. Syntax analysis is the second stage of compiler design and it involves verifying the formal grammar's rules and structure against the input string. It examines the syntactical structure and determines whether the input is in the proper programming language syntax or not."
      ],
      "metadata": {
        "id": "e0rqLH1qrixD"
      }
    }
  ]
}