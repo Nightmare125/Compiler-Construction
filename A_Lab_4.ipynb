{
  "nbformat": 4,
  "nbformat_minor": 0,
  "metadata": {
    "colab": {
      "provenance": [],
      "include_colab_link": true
    },
    "kernelspec": {
      "name": "python3",
      "display_name": "Python 3"
    },
    "language_info": {
      "name": "python"
    }
  },
  "cells": [
    {
      "cell_type": "markdown",
      "metadata": {
        "id": "view-in-github",
        "colab_type": "text"
      },
      "source": [
        "<a href=\"https://colab.research.google.com/github/Nightmare125/Compiler-Construction/blob/main/A_Lab_4.ipynb\" target=\"_parent\"><img src=\"https://colab.research.google.com/assets/colab-badge.svg\" alt=\"Open In Colab\"/></a>"
      ]
    },
    {
      "cell_type": "markdown",
      "source": [
        "**119262 Elvis Kiberi**\n",
        "\n",
        "**122589 Maina Richard Gichomo**"
      ],
      "metadata": {
        "id": "-2ynyV5yIf7T"
      }
    },
    {
      "cell_type": "markdown",
      "source": [
        "*Question 1*\n",
        "\n",
        "1. Predictive parsing is a special form of recursive descent parsing, where no backtracking is required, so this can predict which products to use to replace the input string.Example of a predictive parser is the LL(1) parser."
      ],
      "metadata": {
        "id": "rssZSBYKIitV"
      }
    },
    {
      "cell_type": "markdown",
      "source": [
        "*Question 3*\n",
        "\n",
        "\n",
        "\n",
        "1.   Recursive descent is a top-down parsing algorithm that reads the input from left to right while building the parse tree from the top. For each terminal and non-terminal entity, it employs processes. This parsing method creates a parse tree by recursively processing the input; this backtracking may or may not be necessary. However, the grammar that goes along with it (if left unadjusted) cannot prevent backtracking. An example is *predictive parsing*\n",
        "2.   Back tracking. In order to replace them, top-down parsers compare the input text to the production rules starting at the root node (start symbol) (if matched).\n",
        "\n",
        "\n",
        "3.   Predictive Parser. A recursive descent parser with the capacity to forecast which production would be utilized to replace the input text is known as a predictive parser. The backtracking problem is not present in the predictive parser. The predictive parser employs a look-ahead pointer, which directs attention to the next input symbols, to carry out its functions. The predictive parser imposes various restrictions on the grammar and only accepts a type of grammar known as LL(k) grammar in order to make the parser backtracking free.\n",
        "4.   LL Parser. LL grammar is accepted by an LL Parser. LL grammar is a subset of context-free grammar, however it has a few limitations to make it simpler and easier to implement. Both recursive-descent and table-driven methods can be used to implement LL grammar. LL stands for LL parser (k). The left-most derivation is represented by the second L in LL(k), the input is parsed from left to right by the first L in LL(k), and k itself denotes the number of look-aheads. Since k = 1, LL(k) can alternatively be represented as LL (1).\n",
        "\n",
        "\n",
        "\n",
        "\n",
        "\n"
      ],
      "metadata": {
        "id": "fETVbTU-TVrr"
      }
    }
  ]
}