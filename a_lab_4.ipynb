{
  "nbformat": 4,
  "nbformat_minor": 0,
  "metadata": {
    "colab": {
      "provenance": [],
      "include_colab_link": true
    },
    "kernelspec": {
      "name": "python3",
      "display_name": "Python 3"
    },
    "language_info": {
      "name": "python"
    }
  },
  "cells": [
    {
      "cell_type": "markdown",
      "metadata": {
        "id": "view-in-github",
        "colab_type": "text"
      },
      "source": [
        "<a href=\"https://colab.research.google.com/github/Nightmare125/Compiler-Construction/blob/main/a_lab_4.ipynb\" target=\"_parent\"><img src=\"https://colab.research.google.com/assets/colab-badge.svg\" alt=\"Open In Colab\"/></a>"
      ]
    },
    {
      "cell_type": "markdown",
      "source": [],
      "metadata": {
        "id": "-2ynyV5yIf7T"
      }
    },
    {
      "cell_type": "markdown",
      "source": [
        "122589 Maina Richard Gichomo\n",
        "\n",
        "121542 Glenn Ngio\n",
        "\n",
        "1. Predictive parsing is a special form of recursive descent parsing, where no backtracking is required, so this can predict which products to use to replace the input string.Example of a predictive parser is the LL(1) parser.\n",
        "\n",
        "2. -> A top-down paraser that usea a one-token lookahead. The first L indicates that the input is read drom left to right while the second L says that it produses a left-to-right derivation.\n",
        "\n",
        "  -> Both FIRST() and FOLLOW() are functions assosiated with grammer that helps us fill in the enteries of the M-table. FIRST() is a function they gives the set od terminals that begin the stringd derived from the production rule.  FOLLOW(X) is to be the set of terminals that can appear immediately to the right of Non-Terminal X in the same senetential form. "
      ],
      "metadata": {
        "id": "rssZSBYKIitV"
      }
    }
  ]
}