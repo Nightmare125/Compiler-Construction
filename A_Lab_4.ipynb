{
  "nbformat": 4,
  "nbformat_minor": 0,
  "metadata": {
    "colab": {
      "provenance": [],
      "authorship_tag": "ABX9TyOIG6koKyA5cVYUphsViwnp",
      "include_colab_link": true
    },
    "kernelspec": {
      "name": "python3",
      "display_name": "Python 3"
    },
    "language_info": {
      "name": "python"
    }
  },
  "cells": [
    {
      "cell_type": "markdown",
      "metadata": {
        "id": "view-in-github",
        "colab_type": "text"
      },
      "source": [
        "<a href=\"https://colab.research.google.com/github/Nightmare125/Compiler-Construction/blob/main/A_Lab_4.ipynb\" target=\"_parent\"><img src=\"https://colab.research.google.com/assets/colab-badge.svg\" alt=\"Open In Colab\"/></a>"
      ]
    },
    {
      "cell_type": "markdown",
      "source": [],
      "metadata": {
        "id": "-2ynyV5yIf7T"
      }
    },
    {
      "cell_type": "markdown",
      "source": [
        "122589 Maina Richard Gichomo\n",
        "\n",
        "1. Predictive parsing is a special form of recursive descent parsing, where no backtracking is required, so this can predict which products to use to replace the input string.Example of a predictive parser is the LL(1) parser."
      ],
      "metadata": {
        "id": "rssZSBYKIitV"
      }
    }
  ]
}